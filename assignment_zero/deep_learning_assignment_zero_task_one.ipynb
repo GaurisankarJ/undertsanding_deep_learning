{
 "cells": [
  {
   "cell_type": "markdown",
   "id": "7c8bb53e",
   "metadata": {},
   "source": [
    "## Task 1.1: w/o Pandas and Numpy"
   ]
  },
  {
   "cell_type": "code",
   "execution_count": 35,
   "id": "07c2a1dd",
   "metadata": {},
   "outputs": [],
   "source": [
    "# Function to read data from CSV\n",
    "def read_csv(path):\n",
    "    try:\n",
    "        with open(path, \"r\") as file:\n",
    "            rows = []\n",
    "            for line in file:\n",
    "                row = line.strip().split(\",\")\n",
    "                rows.append(row)\n",
    "            return rows\n",
    "    except Exception as e:\n",
    "        print(f\"An error occured while reading {path}: {e}\")"
   ]
  },
  {
   "cell_type": "code",
   "execution_count": 47,
   "id": "495be895",
   "metadata": {},
   "outputs": [],
   "source": [
    "# Read data from disk using read_csv function\n",
    "train_in = read_csv(\"./resources/train_in.csv\")\n",
    "train_out = read_csv(\"./resources/train_out.csv\")"
   ]
  },
  {
   "cell_type": "code",
   "execution_count": 54,
   "id": "444cfbb4",
   "metadata": {},
   "outputs": [],
   "source": [
    "# Transform train_in\n",
    "transformed_train_in = [[float(num) for num in sublist] for sublist in train_in]"
   ]
  },
  {
   "cell_type": "code",
   "execution_count": 96,
   "id": "fabdf706",
   "metadata": {},
   "outputs": [],
   "source": [
    "# Transform train_out\n",
    "transformed_train_out = [int(num[0]) for num in train_out]"
   ]
  },
  {
   "cell_type": "code",
   "execution_count": 62,
   "id": "4f011836",
   "metadata": {},
   "outputs": [],
   "source": [
    "# Aggregate the 0's, 1's etc\n",
    "centres_aggregate = { 0: [], 1: [], 2: [], 3: [], 4: [], 5: [], 6: [], 7: [], 8: [], 9: [] }\n",
    "\n",
    "for i in range(len(train_in)):\n",
    "    centres_aggregate[transformed_train_out[i]].append(transformed_train_in[i])"
   ]
  },
  {
   "cell_type": "code",
   "execution_count": 65,
   "id": "de8a8121",
   "metadata": {},
   "outputs": [],
   "source": [
    "# Sum the 0's, 1's etc\n",
    "centres_total = { 0: None, 1: None, 2: None, 3: None, 4: None, 5: None, 6: None, 7: None, 8: None, 9: None }\n",
    "\n",
    "for i in centres_aggregate:\n",
    "    total = [sum(values) for values in zip(*centres_aggregate[i])]\n",
    "    centres_total[i] = total"
   ]
  },
  {
   "cell_type": "code",
   "execution_count": 74,
   "id": "0b40cdba",
   "metadata": {},
   "outputs": [],
   "source": [
    "# Average of 0's, 1's etc\n",
    "centres_average = { 0: None, 1: None, 2: None, 3: None, 4: None, 5: None, 6: None, 7: None, 8: None, 9: None }\n",
    "\n",
    "for i in centres_aggregate:\n",
    "    average = [values/len(centres_aggregate[i]) for values in centres_total[i]]\n",
    "    centres_average[i] = average"
   ]
  },
  {
   "cell_type": "code",
   "execution_count": 103,
   "id": "b0be78cd",
   "metadata": {},
   "outputs": [],
   "source": [
    "# Mean the 0's, 1's etc\n",
    "centres_mean = { 0: None, 1: None, 2: None, 3: None, 4: None, 5: None, 6: None, 7: None, 8: None, 9: None }\n",
    "\n",
    "for i in centres_aggregate:\n",
    "    mean = [sum(values)/len(centres_aggregate[i]) for values in zip(*centres_aggregate[i])]\n",
    "    centres_mean[i] = mean"
   ]
  },
  {
   "cell_type": "code",
   "execution_count": 124,
   "id": "53a5b4a0",
   "metadata": {},
   "outputs": [],
   "source": [
    "import math\n",
    "\n",
    "# Generate the distance matrix (Euclidean distance)\n",
    "distance_matrix = []\n",
    "for i in centres_mean:\n",
    "    row_i = []\n",
    "    for j in centres_mean:\n",
    "        difference_i_j = [abs(a - b) for a, b in zip(centres_mean[i], centres_mean[j])]\n",
    "        square_i_j = [x * x for x in difference_i_j]\n",
    "        distance_i_j = math.sqrt(sum(square_i_j))\n",
    "        row_i.append(distance_i_j)\n",
    "    distance_matrix.append(row_i)"
   ]
  },
  {
   "cell_type": "code",
   "execution_count": 130,
   "id": "5cf56594",
   "metadata": {},
   "outputs": [],
   "source": [
    "import math\n",
    "\n",
    "# Simplified\n",
    "# Generate the distance matrix (Euclidean distance)\n",
    "distance_matrix = []\n",
    "for i in centres_mean:\n",
    "    row_i = []\n",
    "    for j in centres_mean:\n",
    "        distance_i_j = math.sqrt(sum((a - b) ** 2 for a, b in zip(centres_mean[i], centres_mean[j])))\n",
    "        row_i.append(distance_i_j)\n",
    "    distance_matrix.append(row_i)"
   ]
  },
  {
   "cell_type": "code",
   "execution_count": 141,
   "id": "e5c87988",
   "metadata": {},
   "outputs": [
    {
     "name": "stdout",
     "output_type": "stream",
     "text": [
      "0        1        2        3        4        5        6        7        8        9\n",
      "0  \n",
      "0.00    14.45    9.33    9.14    10.77    7.52    8.15    11.86    9.91    11.49\n",
      "1  \n",
      "14.45    0.00    10.13    11.73    10.17    11.12    10.61    10.74    10.09    9.93\n",
      "2  \n",
      "9.33    10.13    0.00    8.18    7.93    7.91    7.33    8.87    7.08    8.89\n",
      "3  \n",
      "9.14    11.73    8.18    0.00    9.09    6.12    9.30    8.92    7.02    8.35\n",
      "4  \n",
      "10.77    10.17    7.93    9.09    0.00    8.00    8.78    7.58    7.38    6.01\n",
      "5  \n",
      "7.52    11.12    7.91    6.12    8.00    0.00    6.70    9.21    6.97    8.26\n",
      "6  \n",
      "8.15    10.61    7.33    9.30    8.78    6.70    0.00    10.89    8.59    10.44\n",
      "7  \n",
      "11.86    10.74    8.87    8.92    7.58    9.21    10.89    0.00    8.47    5.43\n",
      "8  \n",
      "9.91    10.09    7.08    7.02    7.38    6.97    8.59    8.47    0.00    6.40\n",
      "9  \n",
      "11.49    9.93    8.89    8.35    6.01    8.26    10.44    5.43    6.40    0.00\n"
     ]
    }
   ],
   "source": [
    "# Print the matrix\n",
    "print(\"        \".join(str(i) for i in range(10)))\n",
    "for index, row in enumerate(distance_matrix):\n",
    "    formatted_row = [f\"{element:.2f}\" for element in row]\n",
    "    print(f\"{index}  \")\n",
    "    print(\"    \".join(formatted_row))"
   ]
  },
  {
   "cell_type": "markdown",
   "id": "512e55b6",
   "metadata": {},
   "source": [
    "- 5 and 3 look similar, 6.12\n",
    "- 8 and 9 look similar, 6.70"
   ]
  },
  {
   "cell_type": "markdown",
   "id": "2d41c709",
   "metadata": {},
   "source": [
    "## Task 1.1: w Pandas and Numpy and Scipy"
   ]
  },
  {
   "cell_type": "code",
   "execution_count": 206,
   "id": "2ae7cf90",
   "metadata": {},
   "outputs": [
    {
     "name": "stdout",
     "output_type": "stream",
     "text": [
      "Requirement already satisfied: pandas in /Library/Frameworks/Python.framework/Versions/3.12/lib/python3.12/site-packages (2.2.2)\n",
      "Requirement already satisfied: numpy in /Library/Frameworks/Python.framework/Versions/3.12/lib/python3.12/site-packages (1.26.2)\n",
      "Collecting scipy\n",
      "  Downloading scipy-1.14.1-cp312-cp312-macosx_14_0_arm64.whl.metadata (60 kB)\n",
      "\u001b[2K     \u001b[38;2;114;156;31m━━━━━━━━━━━━━━━━━━━━━━━━━━━━━━━━━━━━━━━━\u001b[0m \u001b[32m60.8/60.8 kB\u001b[0m \u001b[31m2.8 MB/s\u001b[0m eta \u001b[36m0:00:00\u001b[0m\n",
      "\u001b[?25hRequirement already satisfied: python-dateutil>=2.8.2 in /Library/Frameworks/Python.framework/Versions/3.12/lib/python3.12/site-packages (from pandas) (2.8.2)\n",
      "Requirement already satisfied: pytz>=2020.1 in /Library/Frameworks/Python.framework/Versions/3.12/lib/python3.12/site-packages (from pandas) (2024.1)\n",
      "Requirement already satisfied: tzdata>=2022.7 in /Library/Frameworks/Python.framework/Versions/3.12/lib/python3.12/site-packages (from pandas) (2024.1)\n",
      "Requirement already satisfied: six>=1.5 in /Library/Frameworks/Python.framework/Versions/3.12/lib/python3.12/site-packages (from python-dateutil>=2.8.2->pandas) (1.16.0)\n",
      "Downloading scipy-1.14.1-cp312-cp312-macosx_14_0_arm64.whl (23.1 MB)\n",
      "\u001b[2K   \u001b[38;2;114;156;31m━━━━━━━━━━━━━━━━━━━━━━━━━━━━━━━━━━━━━━━━\u001b[0m \u001b[32m23.1/23.1 MB\u001b[0m \u001b[31m24.8 MB/s\u001b[0m eta \u001b[36m0:00:00\u001b[0mm eta \u001b[36m0:00:01\u001b[0m0:01\u001b[0m:01\u001b[0m\n",
      "\u001b[?25hInstalling collected packages: scipy\n",
      "Successfully installed scipy-1.14.1\n",
      "\n",
      "\u001b[1m[\u001b[0m\u001b[34;49mnotice\u001b[0m\u001b[1;39;49m]\u001b[0m\u001b[39;49m A new release of pip is available: \u001b[0m\u001b[31;49m24.0\u001b[0m\u001b[39;49m -> \u001b[0m\u001b[32;49m24.2\u001b[0m\n",
      "\u001b[1m[\u001b[0m\u001b[34;49mnotice\u001b[0m\u001b[1;39;49m]\u001b[0m\u001b[39;49m To update, run: \u001b[0m\u001b[32;49mpip install --upgrade pip\u001b[0m\n"
     ]
    }
   ],
   "source": [
    "# Install pandas and numpy\n",
    "!pip install pandas numpy scipy"
   ]
  },
  {
   "cell_type": "code",
   "execution_count": 149,
   "id": "62c31f49",
   "metadata": {},
   "outputs": [],
   "source": [
    "# Import dependencies\n",
    "import pandas as pd\n",
    "import numpy as np"
   ]
  },
  {
   "cell_type": "code",
   "execution_count": 150,
   "id": "97c39317",
   "metadata": {},
   "outputs": [],
   "source": [
    "# Read data from disk using pandas\n",
    "train_in = pd.read_csv(\"./resources/train_in.csv\")\n",
    "train_out = pd.read_csv(\"./resources/train_out.csv\")"
   ]
  },
  {
   "cell_type": "code",
   "execution_count": 192,
   "id": "db01cf18",
   "metadata": {},
   "outputs": [],
   "source": [
    "# Combining both DataFrames\n",
    "combined_data = pd.concat([train_in, train_out], axis = 1)"
   ]
  },
  {
   "cell_type": "code",
   "execution_count": 197,
   "id": "d1b8b216",
   "metadata": {},
   "outputs": [],
   "source": [
    "# Finding the centre (average after grouping) and removing the last column\n",
    "centre_data = combined_data.groupby(combined_data.iloc[:, 256]).mean().iloc[:, :-1]"
   ]
  },
  {
   "cell_type": "code",
   "execution_count": 213,
   "id": "5a3d6dc8",
   "metadata": {},
   "outputs": [],
   "source": [
    "# Find the Euclidean distance between two vectors\n",
    "distance = np.linalg.norm(centre_data.iloc[0] - centre_data.iloc[0])"
   ]
  },
  {
   "cell_type": "code",
   "execution_count": 208,
   "id": "f9761ae7",
   "metadata": {},
   "outputs": [
    {
     "name": "stdout",
     "output_type": "stream",
     "text": [
      "[[ 0.         14.44960797  9.33455587  9.14373367 10.76984444  7.51929626\n",
      "   8.16301949 11.86455505  9.90790174 11.48887494]\n",
      " [14.44960797  0.         10.12532258 11.7332329  10.17378643 11.11880041\n",
      "  10.59793273 10.74315367 10.08677677  9.9320937 ]\n",
      " [ 9.33455587 10.12532258  0.          8.17828489  7.93254148  7.90679632\n",
      "   7.31795234  8.87253107  7.07751618  8.88774785]\n",
      " [ 9.14373367 11.7332329   8.17828489  0.          9.0876078   6.11875002\n",
      "   9.29242591  8.92240093  7.02042489  8.35435012]\n",
      " [10.76984444 10.17378643  7.93254148  9.0876078   0.          8.00151741\n",
      "   8.76599667  7.58301228  7.38090899  6.01040793]\n",
      " [ 7.51929626 11.11880041  7.90679632  6.11875002  8.00151741  0.\n",
      "   6.68862915  9.21195402  6.96738648  8.25853807]\n",
      " [ 8.16301949 10.59793273  7.31795234  9.29242591  8.76599667  6.68862915\n",
      "   0.         10.8681573   8.57020763 10.41974352]\n",
      " [11.86455505 10.74315367  8.87253107  8.92240093  7.58301228  9.21195402\n",
      "  10.8681573   0.          8.4677853   5.42647412]\n",
      " [ 9.90790174 10.08677677  7.07751618  7.02042489  7.38090899  6.96738648\n",
      "   8.57020763  8.4677853   0.          6.40116587]\n",
      " [11.48887494  9.9320937   8.88774785  8.35435012  6.01040793  8.25853807\n",
      "  10.41974352  5.42647412  6.40116587  0.        ]]\n"
     ]
    }
   ],
   "source": [
    "# Create distance matrix using scipy\n",
    "from scipy.spatial import distance_matrix\n",
    "\n",
    "dij = distance_matrix(centre_data.values, centre_data.values)"
   ]
  },
  {
   "cell_type": "code",
   "execution_count": 212,
   "id": "fa5871e2",
   "metadata": {},
   "outputs": [
    {
     "name": "stdout",
     "output_type": "stream",
     "text": [
      "           C: 0       C: 1       C: 2       C: 3       C: 4       C: 5  \\\n",
      "R: 0   0.000000  14.449608   9.334556   9.143734  10.769844   7.519296   \n",
      "R: 1  14.449608   0.000000  10.125323  11.733233  10.173786  11.118800   \n",
      "R: 2   9.334556  10.125323   0.000000   8.178285   7.932541   7.906796   \n",
      "R: 3   9.143734  11.733233   8.178285   0.000000   9.087608   6.118750   \n",
      "R: 4  10.769844  10.173786   7.932541   9.087608   0.000000   8.001517   \n",
      "R: 5   7.519296  11.118800   7.906796   6.118750   8.001517   0.000000   \n",
      "R: 6   8.163019  10.597933   7.317952   9.292426   8.765997   6.688629   \n",
      "R: 7  11.864555  10.743154   8.872531   8.922401   7.583012   9.211954   \n",
      "R: 8   9.907902  10.086777   7.077516   7.020425   7.380909   6.967386   \n",
      "R: 9  11.488875   9.932094   8.887748   8.354350   6.010408   8.258538   \n",
      "\n",
      "           C: 6       C: 7       C: 8       C: 9  \n",
      "R: 0   8.163019  11.864555   9.907902  11.488875  \n",
      "R: 1  10.597933  10.743154  10.086777   9.932094  \n",
      "R: 2   7.317952   8.872531   7.077516   8.887748  \n",
      "R: 3   9.292426   8.922401   7.020425   8.354350  \n",
      "R: 4   8.765997   7.583012   7.380909   6.010408  \n",
      "R: 5   6.688629   9.211954   6.967386   8.258538  \n",
      "R: 6   0.000000  10.868157   8.570208  10.419744  \n",
      "R: 7  10.868157   0.000000   8.467785   5.426474  \n",
      "R: 8   8.570208   8.467785   0.000000   6.401166  \n",
      "R: 9  10.419744   5.426474   6.401166   0.000000  \n"
     ]
    }
   ],
   "source": [
    "# Convert the matrix back into a DataFrame\n",
    "distance_df = pd.DataFrame(dij, index=[f\"R: {i}\" for i in range(10)], columns=[f\"C: {i}\" for i in range(10)])\n",
    "\n",
    "print(distance_df)"
   ]
  }
 ],
 "metadata": {
  "kernelspec": {
   "display_name": "Python 3 (ipykernel)",
   "language": "python",
   "name": "python3"
  },
  "language_info": {
   "codemirror_mode": {
    "name": "ipython",
    "version": 3
   },
   "file_extension": ".py",
   "mimetype": "text/x-python",
   "name": "python",
   "nbconvert_exporter": "python",
   "pygments_lexer": "ipython3",
   "version": "3.12.0"
  },
  "varInspector": {
   "cols": {
    "lenName": 16,
    "lenType": 16,
    "lenVar": 40
   },
   "kernels_config": {
    "python": {
     "delete_cmd_postfix": "",
     "delete_cmd_prefix": "del ",
     "library": "var_list.py",
     "varRefreshCmd": "print(var_dic_list())"
    },
    "r": {
     "delete_cmd_postfix": ") ",
     "delete_cmd_prefix": "rm(",
     "library": "var_list.r",
     "varRefreshCmd": "cat(var_dic_list()) "
    }
   },
   "types_to_exclude": [
    "module",
    "function",
    "builtin_function_or_method",
    "instance",
    "_Feature"
   ],
   "window_display": false
  }
 },
 "nbformat": 4,
 "nbformat_minor": 5
}
